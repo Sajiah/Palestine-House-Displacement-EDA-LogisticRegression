{
 "cells": [
  {
   "cell_type": "code",
   "execution_count": 83,
   "id": "58c35162",
   "metadata": {},
   "outputs": [],
   "source": [
    "import pandas as pd\n",
    "import matplotlib.pyplot as plt\n",
    "import seaborn as sn\n",
    "import numpy as np"
   ]
  },
  {
   "cell_type": "code",
   "execution_count": 84,
   "id": "2de6680c",
   "metadata": {},
   "outputs": [],
   "source": [
    "data = pd.read_csv('house-demo.csv')"
   ]
  },
  {
   "cell_type": "code",
   "execution_count": 85,
   "id": "d27bee4f",
   "metadata": {},
   "outputs": [
    {
     "data": {
      "text/html": [
       "<div>\n",
       "<style scoped>\n",
       "    .dataframe tbody tr th:only-of-type {\n",
       "        vertical-align: middle;\n",
       "    }\n",
       "\n",
       "    .dataframe tbody tr th {\n",
       "        vertical-align: top;\n",
       "    }\n",
       "\n",
       "    .dataframe thead th {\n",
       "        text-align: right;\n",
       "    }\n",
       "</style>\n",
       "<table border=\"1\" class=\"dataframe\">\n",
       "  <thead>\n",
       "    <tr style=\"text-align: right;\">\n",
       "      <th></th>\n",
       "      <th>Year</th>\n",
       "      <th>Housing Units</th>\n",
       "      <th>People Left Homeless</th>\n",
       "      <th>Minors Left Homeless</th>\n",
       "      <th>Area</th>\n",
       "      <th>Type of Structure</th>\n",
       "      <th>Demolish Scope</th>\n",
       "      <th>District</th>\n",
       "      <th>Demolition Reason</th>\n",
       "      <th>Demolition carried out by</th>\n",
       "    </tr>\n",
       "  </thead>\n",
       "  <tbody>\n",
       "    <tr>\n",
       "      <th>0</th>\n",
       "      <td>2021.0</td>\n",
       "      <td>8</td>\n",
       "      <td>31</td>\n",
       "      <td>14</td>\n",
       "      <td>The West Bank (Excluding East Jerusalem)</td>\n",
       "      <td>Residential Structure</td>\n",
       "      <td>NaN</td>\n",
       "      <td>Al-Quds</td>\n",
       "      <td>Demolition on the pretext of unlawful construc...</td>\n",
       "      <td>NaN</td>\n",
       "    </tr>\n",
       "    <tr>\n",
       "      <th>1</th>\n",
       "      <td>2021.0</td>\n",
       "      <td>3</td>\n",
       "      <td>5</td>\n",
       "      <td>1</td>\n",
       "      <td>The West Bank (Excluding East Jerusalem)</td>\n",
       "      <td>Residential Structure</td>\n",
       "      <td>NaN</td>\n",
       "      <td>Bethlehem</td>\n",
       "      <td>Demolition on the pretext of unlawful construc...</td>\n",
       "      <td>NaN</td>\n",
       "    </tr>\n",
       "    <tr>\n",
       "      <th>2</th>\n",
       "      <td>2021.0</td>\n",
       "      <td>7</td>\n",
       "      <td>18</td>\n",
       "      <td>12</td>\n",
       "      <td>The West Bank (Excluding East Jerusalem)</td>\n",
       "      <td>Residential Structure</td>\n",
       "      <td>NaN</td>\n",
       "      <td>Hebron</td>\n",
       "      <td>Demolition on the pretext of unlawful construc...</td>\n",
       "      <td>NaN</td>\n",
       "    </tr>\n",
       "    <tr>\n",
       "      <th>3</th>\n",
       "      <td>2021.0</td>\n",
       "      <td>1</td>\n",
       "      <td>0</td>\n",
       "      <td>0</td>\n",
       "      <td>The West Bank (Excluding East Jerusalem)</td>\n",
       "      <td>Residential Structure</td>\n",
       "      <td>NaN</td>\n",
       "      <td>Jenin</td>\n",
       "      <td>Demolition on the pretext of unlawful construc...</td>\n",
       "      <td>NaN</td>\n",
       "    </tr>\n",
       "    <tr>\n",
       "      <th>4</th>\n",
       "      <td>2021.0</td>\n",
       "      <td>16</td>\n",
       "      <td>78</td>\n",
       "      <td>33</td>\n",
       "      <td>The West Bank (Excluding East Jerusalem)</td>\n",
       "      <td>Residential Structure</td>\n",
       "      <td>NaN</td>\n",
       "      <td>Jericho</td>\n",
       "      <td>Demolition on the pretext of unlawful construc...</td>\n",
       "      <td>NaN</td>\n",
       "    </tr>\n",
       "  </tbody>\n",
       "</table>\n",
       "</div>"
      ],
      "text/plain": [
       "     Year Housing Units People Left Homeless Minors Left Homeless  \\\n",
       "0  2021.0             8                   31                   14   \n",
       "1  2021.0             3                    5                    1   \n",
       "2  2021.0             7                   18                   12   \n",
       "3  2021.0             1                    0                    0   \n",
       "4  2021.0            16                   78                   33   \n",
       "\n",
       "                                       Area      Type of Structure  \\\n",
       "0  The West Bank (Excluding East Jerusalem)  Residential Structure   \n",
       "1  The West Bank (Excluding East Jerusalem)  Residential Structure   \n",
       "2  The West Bank (Excluding East Jerusalem)  Residential Structure   \n",
       "3  The West Bank (Excluding East Jerusalem)  Residential Structure   \n",
       "4  The West Bank (Excluding East Jerusalem)  Residential Structure   \n",
       "\n",
       "  Demolish Scope   District  \\\n",
       "0            NaN    Al-Quds   \n",
       "1            NaN  Bethlehem   \n",
       "2            NaN     Hebron   \n",
       "3            NaN      Jenin   \n",
       "4            NaN    Jericho   \n",
       "\n",
       "                                   Demolition Reason Demolition carried out by  \n",
       "0  Demolition on the pretext of unlawful construc...                       NaN  \n",
       "1  Demolition on the pretext of unlawful construc...                       NaN  \n",
       "2  Demolition on the pretext of unlawful construc...                       NaN  \n",
       "3  Demolition on the pretext of unlawful construc...                       NaN  \n",
       "4  Demolition on the pretext of unlawful construc...                       NaN  "
      ]
     },
     "execution_count": 85,
     "metadata": {},
     "output_type": "execute_result"
    }
   ],
   "source": [
    "data.head()"
   ]
  },
  {
   "cell_type": "code",
   "execution_count": 86,
   "id": "d1b23e9a",
   "metadata": {},
   "outputs": [
    {
     "name": "stdout",
     "output_type": "stream",
     "text": [
      "<class 'pandas.core.frame.DataFrame'>\n",
      "RangeIndex: 272 entries, 0 to 271\n",
      "Data columns (total 10 columns):\n",
      " #   Column                     Non-Null Count  Dtype  \n",
      "---  ------                     --------------  -----  \n",
      " 0   Year                       269 non-null    float64\n",
      " 1   Housing Units              270 non-null    object \n",
      " 2   People Left Homeless       270 non-null    object \n",
      " 3   Minors Left Homeless       269 non-null    object \n",
      " 4   Area                       269 non-null    object \n",
      " 5   Type of Structure          269 non-null    object \n",
      " 6   Demolish Scope             97 non-null     object \n",
      " 7   District                   269 non-null    object \n",
      " 8   Demolition Reason          269 non-null    object \n",
      " 9   Demolition carried out by  52 non-null     object \n",
      "dtypes: float64(1), object(9)\n",
      "memory usage: 21.4+ KB\n"
     ]
    }
   ],
   "source": [
    "data.info()"
   ]
  },
  {
   "cell_type": "code",
   "execution_count": 87,
   "id": "c0ab2b73",
   "metadata": {},
   "outputs": [
    {
     "data": {
      "text/plain": [
       "Year                          18\n",
       "Housing Units                 62\n",
       "People Left Homeless         117\n",
       "Minors Left Homeless          78\n",
       "Area                           3\n",
       "Type of Structure              2\n",
       "Demolish Scope                 2\n",
       "District                      21\n",
       "Demolition Reason              3\n",
       "Demolition carried out by      2\n",
       "dtype: int64"
      ]
     },
     "execution_count": 87,
     "metadata": {},
     "output_type": "execute_result"
    }
   ],
   "source": [
    "data.nunique()"
   ]
  },
  {
   "cell_type": "code",
   "execution_count": 88,
   "id": "c117a9aa",
   "metadata": {},
   "outputs": [
    {
     "data": {
      "text/plain": [
       "Year                           3\n",
       "Housing Units                  2\n",
       "People Left Homeless           2\n",
       "Minors Left Homeless           3\n",
       "Area                           3\n",
       "Type of Structure              3\n",
       "Demolish Scope               175\n",
       "District                       3\n",
       "Demolition Reason              3\n",
       "Demolition carried out by    220\n",
       "dtype: int64"
      ]
     },
     "execution_count": 88,
     "metadata": {},
     "output_type": "execute_result"
    }
   ],
   "source": [
    "data.isna().sum()"
   ]
  },
  {
   "cell_type": "code",
   "execution_count": 89,
   "id": "f69f37ca",
   "metadata": {},
   "outputs": [],
   "source": [
    "data = data.drop(['Demolish Scope', 'Demolition carried out by'],  axis=1)\n",
    "data = data.dropna()"
   ]
  },
  {
   "cell_type": "code",
   "execution_count": 90,
   "id": "8b3e32d3",
   "metadata": {},
   "outputs": [],
   "source": [
    "data['Year'] = pd.to_datetime(data['Year'], format='%Y')\n",
    "data['Year'] = data['Year'].dt.year"
   ]
  },
  {
   "cell_type": "code",
   "execution_count": 91,
   "id": "fc1f3ba4",
   "metadata": {},
   "outputs": [],
   "source": [
    "data[\"People Left Homeless\"] = data[\"People Left Homeless\"].str.replace(\",\",\"\")\n",
    "data[\"Minors Left Homeless\"] = data[\"Minors Left Homeless\"].str.replace(\",\",\"\")\n",
    "data[\"Housing Units\"] = data[\"Housing Units\"].str.replace(\",\",\"\")\n",
    "data['People Left Homeless'] = data['People Left Homeless'].astype(int)\n",
    "data['Minors Left Homeless'] = data['Minors Left Homeless'].astype(int)\n",
    "data['Housing Units'] = data['Housing Units'].astype(int)"
   ]
  },
  {
   "cell_type": "code",
   "execution_count": 92,
   "id": "4f2f26d5",
   "metadata": {},
   "outputs": [
    {
     "data": {
      "text/html": [
       "<div>\n",
       "<style scoped>\n",
       "    .dataframe tbody tr th:only-of-type {\n",
       "        vertical-align: middle;\n",
       "    }\n",
       "\n",
       "    .dataframe tbody tr th {\n",
       "        vertical-align: top;\n",
       "    }\n",
       "\n",
       "    .dataframe thead th {\n",
       "        text-align: right;\n",
       "    }\n",
       "</style>\n",
       "<table border=\"1\" class=\"dataframe\">\n",
       "  <thead>\n",
       "    <tr style=\"text-align: right;\">\n",
       "      <th></th>\n",
       "      <th>Year</th>\n",
       "      <th>People Left Homeless</th>\n",
       "      <th>Minors Left Homeless</th>\n",
       "    </tr>\n",
       "  </thead>\n",
       "  <tbody>\n",
       "    <tr>\n",
       "      <th>0</th>\n",
       "      <td>2004</td>\n",
       "      <td>11805</td>\n",
       "      <td>110</td>\n",
       "    </tr>\n",
       "    <tr>\n",
       "      <th>1</th>\n",
       "      <td>2005</td>\n",
       "      <td>214</td>\n",
       "      <td>78</td>\n",
       "    </tr>\n",
       "    <tr>\n",
       "      <th>2</th>\n",
       "      <td>2006</td>\n",
       "      <td>2473</td>\n",
       "      <td>96</td>\n",
       "    </tr>\n",
       "    <tr>\n",
       "      <th>3</th>\n",
       "      <td>2007</td>\n",
       "      <td>668</td>\n",
       "      <td>340</td>\n",
       "    </tr>\n",
       "    <tr>\n",
       "      <th>4</th>\n",
       "      <td>2008</td>\n",
       "      <td>772</td>\n",
       "      <td>422</td>\n",
       "    </tr>\n",
       "    <tr>\n",
       "      <th>5</th>\n",
       "      <td>2009</td>\n",
       "      <td>502</td>\n",
       "      <td>207</td>\n",
       "    </tr>\n",
       "    <tr>\n",
       "      <th>6</th>\n",
       "      <td>2010</td>\n",
       "      <td>612</td>\n",
       "      <td>302</td>\n",
       "    </tr>\n",
       "    <tr>\n",
       "      <th>7</th>\n",
       "      <td>2011</td>\n",
       "      <td>979</td>\n",
       "      <td>463</td>\n",
       "    </tr>\n",
       "    <tr>\n",
       "      <th>8</th>\n",
       "      <td>2012</td>\n",
       "      <td>633</td>\n",
       "      <td>326</td>\n",
       "    </tr>\n",
       "    <tr>\n",
       "      <th>9</th>\n",
       "      <td>2013</td>\n",
       "      <td>838</td>\n",
       "      <td>451</td>\n",
       "    </tr>\n",
       "    <tr>\n",
       "      <th>10</th>\n",
       "      <td>2014</td>\n",
       "      <td>925</td>\n",
       "      <td>488</td>\n",
       "    </tr>\n",
       "    <tr>\n",
       "      <th>11</th>\n",
       "      <td>2015</td>\n",
       "      <td>664</td>\n",
       "      <td>381</td>\n",
       "    </tr>\n",
       "    <tr>\n",
       "      <th>12</th>\n",
       "      <td>2016</td>\n",
       "      <td>1620</td>\n",
       "      <td>809</td>\n",
       "    </tr>\n",
       "    <tr>\n",
       "      <th>13</th>\n",
       "      <td>2017</td>\n",
       "      <td>564</td>\n",
       "      <td>310</td>\n",
       "    </tr>\n",
       "    <tr>\n",
       "      <th>14</th>\n",
       "      <td>2018</td>\n",
       "      <td>443</td>\n",
       "      <td>196</td>\n",
       "    </tr>\n",
       "    <tr>\n",
       "      <th>15</th>\n",
       "      <td>2019</td>\n",
       "      <td>713</td>\n",
       "      <td>357</td>\n",
       "    </tr>\n",
       "    <tr>\n",
       "      <th>16</th>\n",
       "      <td>2020</td>\n",
       "      <td>1011</td>\n",
       "      <td>512</td>\n",
       "    </tr>\n",
       "    <tr>\n",
       "      <th>17</th>\n",
       "      <td>2021</td>\n",
       "      <td>294</td>\n",
       "      <td>150</td>\n",
       "    </tr>\n",
       "  </tbody>\n",
       "</table>\n",
       "</div>"
      ],
      "text/plain": [
       "    Year  People Left Homeless  Minors Left Homeless\n",
       "0   2004                 11805                   110\n",
       "1   2005                   214                    78\n",
       "2   2006                  2473                    96\n",
       "3   2007                   668                   340\n",
       "4   2008                   772                   422\n",
       "5   2009                   502                   207\n",
       "6   2010                   612                   302\n",
       "7   2011                   979                   463\n",
       "8   2012                   633                   326\n",
       "9   2013                   838                   451\n",
       "10  2014                   925                   488\n",
       "11  2015                   664                   381\n",
       "12  2016                  1620                   809\n",
       "13  2017                   564                   310\n",
       "14  2018                   443                   196\n",
       "15  2019                   713                   357\n",
       "16  2020                  1011                   512\n",
       "17  2021                   294                   150"
      ]
     },
     "execution_count": 92,
     "metadata": {},
     "output_type": "execute_result"
    }
   ],
   "source": [
    "data_years =data.groupby('Year',as_index=False).sum()\n",
    "data_years = data_years[['Year','People Left Homeless','Minors Left Homeless']]\n",
    "data_years"
   ]
  },
  {
   "cell_type": "code",
   "execution_count": 93,
   "id": "b1bf6998",
   "metadata": {},
   "outputs": [],
   "source": [
    "x = np.array(data_years['Year'])\n",
    "y = np.array(data_years['People Left Homeless']).astype(int)\n",
    "y2 = np.array(data_years['Minors Left Homeless']).astype(int)"
   ]
  },
  {
   "cell_type": "code",
   "execution_count": 94,
   "id": "c24f0b04",
   "metadata": {},
   "outputs": [
    {
     "data": {
      "text/plain": [
       "array([2004, 2005, 2006, 2007, 2008, 2009, 2010, 2011, 2012, 2013, 2014,\n",
       "       2015, 2016, 2017, 2018, 2019, 2020, 2021], dtype=int64)"
      ]
     },
     "execution_count": 94,
     "metadata": {},
     "output_type": "execute_result"
    }
   ],
   "source": [
    "x"
   ]
  },
  {
   "cell_type": "code",
   "execution_count": 95,
   "id": "985b4054",
   "metadata": {},
   "outputs": [
    {
     "data": {
      "text/plain": [
       "array([11805,   214,  2473,   668,   772,   502,   612,   979,   633,\n",
       "         838,   925,   664,  1620,   564,   443,   713,  1011,   294])"
      ]
     },
     "execution_count": 95,
     "metadata": {},
     "output_type": "execute_result"
    }
   ],
   "source": [
    "\n",
    "y"
   ]
  },
  {
   "cell_type": "code",
   "execution_count": 96,
   "id": "73f68dab",
   "metadata": {},
   "outputs": [
    {
     "data": {
      "image/png": "[encoded data removed]",
      "text/plain": [
       "<Figure size 432x288 with 1 Axes>"
      ]
     },
     "metadata": {
      "needs_background": "light"
     },
     "output_type": "display_data"
    }
   ],
   "source": [
    "plt.plot(x, y, label = 'People Left Homeless', linestyle=\"--\")\n",
    "plt.plot(x, y2, label = 'Minor Left Homeless', linestyle=\"-\")\n",
    "plt.xlim(min(x) , max(x))\n",
    "# plt.ylim(min(y) , max(y))\n",
    "plt.xlabel('Year')\n",
    "plt.legend()\n",
    "plt.show()"
   ]
  },
  {
   "cell_type": "code",
   "execution_count": 97,
   "id": "91d7ef9b",
   "metadata": {},
   "outputs": [
    {
     "data": {
      "text/plain": [
       "<Figure size 64800x72000 with 0 Axes>"
      ]
     },
     "metadata": {},
     "output_type": "display_data"
    },
    {
     "data": {
      "image/png": "[encoded data removed]",
      "text/plain": [
       "<Figure size 432x288 with 1 Axes>"
      ]
     },
     "metadata": {},
     "output_type": "display_data"
    }
   ],
   "source": [
    "colors = ['#422680','#66b3ff','#99ff99','#ffcc99']\n",
    "all_demolitions = data['Demolition Reason'].value_counts().to_dict()\n",
    "x = list(all_demolitions.values())\n",
    "labels = all_demolitions.keys()\n",
    "explode = (0.1, 0.1, 0.1)\n",
    "plt.figure(figsize=(900,1000))\n",
    "fig1, ax1 = plt.subplots()\n",
    "ax1.pie(x, explode=explode, labels=labels, autopct='%1.1f%%',\n",
    "        shadow=True, startangle=90, colors=colors)\n",
    "ax1.axis('equal')\n",
    "plt.show()"
   ]
  },
  {
   "cell_type": "code",
   "execution_count": 98,
   "id": "4009d98e",
   "metadata": {},
   "outputs": [],
   "source": [
    "total_homeless_area = data['People Left Homeless'].groupby(data['Area']).sum().reset_index(name='Total People Left Homeless')"
   ]
  },
  {
   "cell_type": "code",
   "execution_count": 99,
   "id": "9d9a4c59",
   "metadata": {},
   "outputs": [],
   "source": [
    "total_minors_area = data['Minors Left Homeless'].groupby(data['Area']).sum().reset_index(name='Total Minors Left Homeless')"
   ]
  },
  {
   "cell_type": "code",
   "execution_count": 100,
   "id": "ba2922d3",
   "metadata": {},
   "outputs": [],
   "source": [
    "total_homeless_area['Total Minors Left Homeless'] = total_minors_area['Total Minors Left Homeless']"
   ]
  },
  {
   "cell_type": "code",
   "execution_count": 101,
   "id": "430a8d9e",
   "metadata": {},
   "outputs": [
    {
     "data": {
      "text/plain": [
       "<AxesSubplot:ylabel='Area'>"
      ]
     },
     "execution_count": 101,
     "metadata": {},
     "output_type": "execute_result"
    },
    {
     "data": {
      "text/plain": [
       "<Figure size 1440x504 with 0 Axes>"
      ]
     },
     "metadata": {},
     "output_type": "display_data"
    },
    {
     "data": {
      "image/png": "[encoded data removed]",
      "text/plain": [
       "<Figure size 432x288 with 1 Axes>"
      ]
     },
     "metadata": {
      "needs_background": "light"
     },
     "output_type": "display_data"
    }
   ],
   "source": [
    "plt.figure(figsize=(20,7))\n",
    "total_homeless_area.plot.barh(x = 'Area', stacked = True)"
   ]
  },
  {
   "cell_type": "code",
   "execution_count": 102,
   "id": "3caa5275",
   "metadata": {},
   "outputs": [
    {
     "data": {
      "image/png": "[encoded data removed]",
      "text/plain": [
       "<Figure size 1440x504 with 1 Axes>"
      ]
     },
     "metadata": {
      "needs_background": "light"
     },
     "output_type": "display_data"
    }
   ],
   "source": [
    "plt.figure(figsize=(20,7))\n",
    "sn.countplot(data = data, x = 'Type of Structure',palette='magma').set_title('Type of Structure');"
   ]
  },
  {
   "cell_type": "code",
   "execution_count": 103,
   "id": "fe1deefc",
   "metadata": {},
   "outputs": [
    {
     "name": "stdout",
     "output_type": "stream",
     "text": [
      "                          Year  Housing Units  People Left Homeless  \\\n",
      "Year                  1.000000      -0.118553             -0.164993   \n",
      "Housing Units        -0.118553       1.000000              0.965650   \n",
      "People Left Homeless -0.164993       0.965650              1.000000   \n",
      "Minors Left Homeless  0.119502       0.173937              0.063158   \n",
      "\n",
      "                      Minors Left Homeless  \n",
      "Year                              0.119502  \n",
      "Housing Units                     0.173937  \n",
      "People Left Homeless              0.063158  \n",
      "Minors Left Homeless              1.000000  \n"
     ]
    }
   ],
   "source": [
    "corr_matrix = data.corr()\n",
    "\n",
    "print(corr_matrix)"
   ]
  },
  {
   "cell_type": "code",
   "execution_count": 104,
   "id": "06d347a3",
   "metadata": {},
   "outputs": [],
   "source": [
    "X = data"
   ]
  },
  {
   "cell_type": "code",
   "execution_count": 105,
   "id": "0e94c718",
   "metadata": {},
   "outputs": [],
   "source": [
    "Y = X['Area']"
   ]
  },
  {
   "cell_type": "code",
   "execution_count": 106,
   "id": "f09509a6",
   "metadata": {},
   "outputs": [],
   "source": [
    "X = X.drop(['Area'], axis = 1)"
   ]
  },
  {
   "cell_type": "code",
   "execution_count": 107,
   "id": "a909bea1",
   "metadata": {},
   "outputs": [],
   "source": [
    "X = pd.get_dummies(X)"
   ]
  },
  {
   "cell_type": "code",
   "execution_count": 108,
   "id": "ded17b16",
   "metadata": {},
   "outputs": [],
   "source": [
    "from sklearn.model_selection import train_test_split\n",
    "X_train, X_test, y_train, y_test = train_test_split(X, Y, test_size=0.80, random_state=42)"
   ]
  },
  {
   "cell_type": "code",
   "execution_count": 109,
   "id": "020bd3a1",
   "metadata": {},
   "outputs": [
    {
     "data": {
      "text/plain": [
       "{'East Jerusalem', 'Gaza Strip', 'The West Bank (Excluding East Jerusalem)'}"
      ]
     },
     "execution_count": 109,
     "metadata": {},
     "output_type": "execute_result"
    }
   ],
   "source": [
    "set(y_train)"
   ]
  },
  {
   "cell_type": "code",
   "execution_count": 110,
   "id": "f2f83728",
   "metadata": {},
   "outputs": [],
   "source": [
    "from sklearn.metrics import f1_score, classification_report, confusion_matrix, recall_score, precision_score, accuracy_score\n",
    "from sklearn.metrics import plot_confusion_matrix\n"
   ]
  },
  {
   "cell_type": "markdown",
   "id": "c2506bea",
   "metadata": {},
   "source": [
    "# Using SVM"
   ]
  },
  {
   "cell_type": "code",
   "execution_count": 111,
   "id": "2f725799",
   "metadata": {},
   "outputs": [],
   "source": [
    "from sklearn.svm import SVC\n",
    "from sklearn.pipeline import make_pipeline\n",
    "from sklearn.preprocessing import StandardScaler"
   ]
  },
  {
   "cell_type": "code",
   "execution_count": 112,
   "id": "f08c7f56",
   "metadata": {},
   "outputs": [],
   "source": [
    "clf = SVC(random_state=0)"
   ]
  },
  {
   "cell_type": "code",
   "execution_count": 113,
   "id": "7f140245",
   "metadata": {},
   "outputs": [
    {
     "data": {
      "text/plain": [
       "SVC(random_state=0)"
      ]
     },
     "execution_count": 113,
     "metadata": {},
     "output_type": "execute_result"
    }
   ],
   "source": [
    "clf.fit(X_train, y_train)"
   ]
  },
  {
   "cell_type": "code",
   "execution_count": 114,
   "id": "e0160e87",
   "metadata": {},
   "outputs": [],
   "source": [
    "predictions_svc = clf.predict(X_test)"
   ]
  },
  {
   "cell_type": "code",
   "execution_count": 115,
   "id": "289dbfb3",
   "metadata": {},
   "outputs": [
    {
     "name": "stdout",
     "output_type": "stream",
     "text": [
      "                                          precision    recall  f1-score   support\n",
      "\n",
      "                          East Jerusalem      0.000     0.000     0.000        45\n",
      "                              Gaza Strip      0.000     0.000     0.000        22\n",
      "The West Bank (Excluding East Jerusalem)      0.688     1.000     0.815       148\n",
      "\n",
      "                                accuracy                          0.688       215\n",
      "                               macro avg      0.229     0.333     0.272       215\n",
      "                            weighted avg      0.474     0.688     0.561       215\n",
      "\n",
      "[[  0   0  45]\n",
      " [  0   0  22]\n",
      " [  0   0 148]]\n"
     ]
    },
    {
     "name": "stderr",
     "output_type": "stream",
     "text": [
      "C:\\Users\\Sajiah Naqib\\anaconda3\\envs\\adm\\lib\\site-packages\\sklearn\\metrics\\_classification.py:1308: UndefinedMetricWarning: Precision and F-score are ill-defined and being set to 0.0 in labels with no predicted samples. Use `zero_division` parameter to control this behavior.\n",
      "  _warn_prf(average, modifier, msg_start, len(result))\n",
      "C:\\Users\\Sajiah Naqib\\anaconda3\\envs\\adm\\lib\\site-packages\\sklearn\\metrics\\_classification.py:1308: UndefinedMetricWarning: Precision and F-score are ill-defined and being set to 0.0 in labels with no predicted samples. Use `zero_division` parameter to control this behavior.\n",
      "  _warn_prf(average, modifier, msg_start, len(result))\n",
      "C:\\Users\\Sajiah Naqib\\anaconda3\\envs\\adm\\lib\\site-packages\\sklearn\\metrics\\_classification.py:1308: UndefinedMetricWarning: Precision and F-score are ill-defined and being set to 0.0 in labels with no predicted samples. Use `zero_division` parameter to control this behavior.\n",
      "  _warn_prf(average, modifier, msg_start, len(result))\n"
     ]
    }
   ],
   "source": [
    "print(classification_report(y_test, predictions_svc, digits=3))\n",
    "print(confusion_matrix(y_test, predictions_svc))"
   ]
  },
  {
   "cell_type": "code",
   "execution_count": 116,
   "id": "a90cfc8c",
   "metadata": {},
   "outputs": [
    {
     "name": "stderr",
     "output_type": "stream",
     "text": [
      "C:\\Users\\Sajiah Naqib\\anaconda3\\envs\\adm\\lib\\site-packages\\sklearn\\utils\\deprecation.py:87: FutureWarning: Function plot_confusion_matrix is deprecated; Function `plot_confusion_matrix` is deprecated in 1.0 and will be removed in 1.2. Use one of the class methods: ConfusionMatrixDisplay.from_predictions or ConfusionMatrixDisplay.from_estimator.\n",
      "  warnings.warn(msg, category=FutureWarning)\n"
     ]
    },
    {
     "data": {
      "image/png": "[encoded data removed]",
      "text/plain": [
       "<Figure size 864x864 with 2 Axes>"
      ]
     },
     "metadata": {
      "needs_background": "light"
     },
     "output_type": "display_data"
    }
   ],
   "source": [
    "fig, ax = plt.subplots(figsize=(12, 12))\n",
    "plot_confusion_matrix(clf, X_test, y_test, ax=ax)\n",
    "plt.title('Confusion matrix of the SVC classifier')\n",
    "plt.show()"
   ]
  },
  {
   "cell_type": "markdown",
   "id": "def5cbd3",
   "metadata": {},
   "source": [
    "# Using Logistic Regression"
   ]
  },
  {
   "cell_type": "code",
   "execution_count": 117,
   "id": "1a6d158c",
   "metadata": {},
   "outputs": [],
   "source": [
    "from sklearn.linear_model import LogisticRegression\n",
    "lr_model = LogisticRegression()"
   ]
  },
  {
   "cell_type": "code",
   "execution_count": 118,
   "id": "44436aed",
   "metadata": {},
   "outputs": [
    {
     "name": "stderr",
     "output_type": "stream",
     "text": [
      "C:\\Users\\Sajiah Naqib\\anaconda3\\envs\\adm\\lib\\site-packages\\sklearn\\linear_model\\_logistic.py:814: ConvergenceWarning: lbfgs failed to converge (status=1):\n",
      "STOP: TOTAL NO. of ITERATIONS REACHED LIMIT.\n",
      "\n",
      "Increase the number of iterations (max_iter) or scale the data as shown in:\n",
      "    https://scikit-learn.org/stable/modules/preprocessing.html\n",
      "Please also refer to the documentation for alternative solver options:\n",
      "    https://scikit-learn.org/stable/modules/linear_model.html#logistic-regression\n",
      "  n_iter_i = _check_optimize_result(\n"
     ]
    }
   ],
   "source": [
    "# fit and predict\n",
    "lr_model.fit(X_train,\n",
    "              y_train)\n",
    "predictions = lr_model.predict(X_test)"
   ]
  },
  {
   "cell_type": "code",
   "execution_count": 119,
   "id": "ed4bf58b",
   "metadata": {},
   "outputs": [
    {
     "name": "stdout",
     "output_type": "stream",
     "text": [
      "                                          precision    recall  f1-score   support\n",
      "\n",
      "                          East Jerusalem      0.750     0.467     0.575        45\n",
      "                              Gaza Strip      0.500     0.273     0.353        22\n",
      "The West Bank (Excluding East Jerusalem)      0.771     0.912     0.836       148\n",
      "\n",
      "                                accuracy                          0.753       215\n",
      "                               macro avg      0.674     0.551     0.588       215\n",
      "                            weighted avg      0.739     0.753     0.732       215\n",
      "\n",
      "[[ 21   0  24]\n",
      " [  0   6  16]\n",
      " [  7   6 135]]\n"
     ]
    }
   ],
   "source": [
    "print(classification_report(y_test, predictions, digits=3))\n",
    "print(confusion_matrix(y_test, predictions))"
   ]
  },
  {
   "cell_type": "code",
   "execution_count": 120,
   "id": "63057dc1",
   "metadata": {},
   "outputs": [
    {
     "name": "stderr",
     "output_type": "stream",
     "text": [
      "C:\\Users\\Sajiah Naqib\\anaconda3\\envs\\adm\\lib\\site-packages\\sklearn\\utils\\deprecation.py:87: FutureWarning: Function plot_confusion_matrix is deprecated; Function `plot_confusion_matrix` is deprecated in 1.0 and will be removed in 1.2. Use one of the class methods: ConfusionMatrixDisplay.from_predictions or ConfusionMatrixDisplay.from_estimator.\n",
      "  warnings.warn(msg, category=FutureWarning)\n"
     ]
    },
    {
     "data": {
      "image/png": "[encoded data removed]",
      "text/plain": [
       "<Figure size 864x864 with 2 Axes>"
      ]
     },
     "metadata": {
      "needs_background": "light"
     },
     "output_type": "display_data"
    }
   ],
   "source": [
    "fig, ax = plt.subplots(figsize=(12, 12))\n",
    "plot_confusion_matrix(lr_model, X_test, y_test, ax=ax)\n",
    "plt.title('Confusion matrix of the Logistic Regression classifier')\n",
    "plt.show()"
   ]
  },
  {
   "cell_type": "code",
   "execution_count": null,
   "id": "5443e64d",
   "metadata": {},
   "outputs": [],
   "source": []
  }
 ],
 "metadata": {
  "kernelspec": {
   "display_name": "Python 3 (ipykernel)",
   "language": "python",
   "name": "python3"
  },
  "language_info": {
   "codemirror_mode": {
    "name": "ipython",
    "version": 3
   },
   "file_extension": ".py",
   "mimetype": "text/x-python",
   "name": "python",
   "nbconvert_exporter": "python",
   "pygments_lexer": "ipython3",
   "version": "3.8.13"
  }
 },
 "nbformat": 4,
 "nbformat_minor": 5
}
